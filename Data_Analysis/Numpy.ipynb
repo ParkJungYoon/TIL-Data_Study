{
 "cells": [
  {
   "cell_type": "markdown",
   "metadata": {},
   "source": [
    "> **Elice  Ai Track**에서 제공하는 강의자료를 바탕으로 작성하였습니다.  \n",
    "\n",
    "##  < NumPy >\n",
    "\n",
    "고성능의 수치 계산을 위해 만들어진 라이브러리\n",
    "\n",
    "### 01. NumPy 기본\n",
    "\n",
    "1. 배열 만들기\n",
    "   * Numpy 라이브러리는 효율적인 데이터분석이 가능하도록 N차원의 배열 객체를 지원\n",
    "   * Numpy library에서 자주 사용되는 함수\n",
    "       * np.array - 배열생성\n",
    "       * np.zeros - 0이 들어있는 배열 생성\n",
    "       * np.ones - 1이 들어있는 배열 생성\n",
    "       * np.empty - 초기화가 없는 값으로 배열을 반환\n",
    "       * np.arange(n) - 배열 버전의 range 함수\n",
    "       * np.random - 다양한 난수가 들어있는 배열 생성"
   ]
  },
  {
   "cell_type": "code",
   "execution_count": 1,
   "metadata": {},
   "outputs": [
    {
     "name": "stdout",
     "output_type": "stream",
     "text": [
      "[[9 3 0 1 1]\n",
      " [5 9 5 8 6]\n",
      " [7 0 0 2 0]\n",
      " [3 3 3 9 7]]\n"
     ]
    }
   ],
   "source": [
    "# 0 이상 10 미만의 랜덤한 값이 들어가 있는 4X5 배열\n",
    "import numpy as np\n",
    "\n",
    "a = np.random.randint(0,10,(4,5))\n",
    "print(a)"
   ]
  },
  {
   "cell_type": "markdown",
   "metadata": {},
   "source": [
    "2. 배열의 기초\n",
    "    * 배열의 속성\n",
    "        * **자료형**: 변수가 가지고 있는 값의 형태의 구분을 의미한다. numpy 배열의 자료형은 **ndarray**이다. 자료형은 파이썬의 내장함수 type()함수로 확인할 수 있다.\n",
    "        * **차원**: 차원은 배열의 복잡도를 의미한다. 1차원 배열이면 1, 2차원 배열이면 2, n차원 배열이면 n이다. 차원이 하나 늘어날 때 마다 데이터를 담는 방향(축)이 하나씩 늘어나게 됩니다.\n",
    "        * **모양**: 배열이 자료를 담고 있는 형태를 의미한다. 10개의 자료가 들어있는 1차원 배열의 모양은 (10,)으로 나타내고, 3x3 모양의 2차원 배열은 (3,3)로 나타냅니다.\n",
    "        * **크기**: 배열이 가지고 있는 자료들의 개수를 의미한다.\n",
    "        * **dtype**: 배열이 담고 있는 요소들의 자료형을 의미한다. 정수를 담고 있는 배열의 자료형은 ndarray지만, dtype은 **int**이다."
   ]
  },
  {
   "cell_type": "code",
   "execution_count": 2,
   "metadata": {},
   "outputs": [
    {
     "name": "stdout",
     "output_type": "stream",
     "text": [
      "[0 1 2 3 4 5 6 7]\n",
      "자료형 :  <class 'numpy.ndarray'>\n",
      "차원 :  1\n",
      "모양 :  (8,)\n",
      "크기 :  8\n",
      "dtype : int32\n"
     ]
    }
   ],
   "source": [
    "# 1차원 array\n",
    "import numpy as np\n",
    "\n",
    "array = np.arange(8)\n",
    "print(array)\n",
    "\n",
    "print(\"자료형 : \", type(array))\n",
    "print(\"차원 : \", array.ndim)\n",
    "print(\"모양 : \", array.shape)\n",
    "print(\"크기 : \", array.size)\n",
    "print(\"dtype :\", array.dtype)"
   ]
  },
  {
   "cell_type": "code",
   "execution_count": 3,
   "metadata": {},
   "outputs": [
    {
     "name": "stdout",
     "output_type": "stream",
     "text": [
      "[[ 1  2  3  4  5]\n",
      " [ 6  7  8  9 10]]\n",
      "자료형 :  <class 'numpy.ndarray'>\n",
      "차원 :  2\n",
      "모양 :  (2, 5)\n",
      "크기 :  10\n",
      "dtype : int32\n"
     ]
    }
   ],
   "source": [
    "# 2차원 matrix\n",
    "import numpy as np\n",
    "\n",
    "matrix = np.arange(1, 11).reshape(2,5)\n",
    "print(matrix)\n",
    "\n",
    "print(\"자료형 : \", type(matrix))\n",
    "print(\"차원 : \", matrix.ndim)\n",
    "print(\"모양 : \", matrix.shape)\n",
    "print(\"크기 : \", matrix.size)\n",
    "print(\"dtype :\", matrix.dtype)"
   ]
  },
  {
   "cell_type": "markdown",
   "metadata": {},
   "source": [
    "3. 배열의 인덱싱과 슬라이싱\n",
    "    * 리스트나 배열 연산에서 가장 기초는 배열에서 내가 원하는 요소를 선택하는 것.\n",
    "    * 인덱싱(Indexing): 값 하나를 선택\n",
    "    * 슬라이싱(Slicing): 여러 요소를 범위를 지정하여 선택"
   ]
  },
  {
   "cell_type": "code",
   "execution_count": 4,
   "metadata": {},
   "outputs": [
    {
     "name": "stdout",
     "output_type": "stream",
     "text": [
      "[0 1 2 3 4 5 6 7]\n",
      "array[2] :  2\n",
      "array[1:4] :  [1 2 3]\n"
     ]
    }
   ],
   "source": [
    "# 1차원 배열의 indexing, slicing\n",
    "import numpy as np\n",
    "\n",
    "array = np.arange(8)   \n",
    "print(array)\n",
    "\n",
    "print(\"array[2] : \", array[2])\n",
    "print(\"array[1:4] : \", array[1:4])  # 배열 이름 [시작위치:끝위치+1]"
   ]
  },
  {
   "cell_type": "code",
   "execution_count": 5,
   "metadata": {},
   "outputs": [
    {
     "name": "stdout",
     "output_type": "stream",
     "text": [
      "[[ 1  2  3  4  5]\n",
      " [ 6  7  8  9 10]]\n",
      "matrix[1,3] :  9\n",
      "matrix[0:2, 0:2] :  [[1 2]\n",
      " [6 7]]\n"
     ]
    }
   ],
   "source": [
    "# 2차원 matrix의 indexing, slicing\n",
    "import numpy as np\n",
    "\n",
    "matrix = np.arange(1, 11).reshape(2,5)\n",
    "print(matrix)\n",
    "\n",
    "print(\"matrix[1,3] : \", matrix[1,3])\n",
    "print(\"matrix[0:2, 0:2] : \", matrix[0:2, 0:2])"
   ]
  },
  {
   "cell_type": "markdown",
   "metadata": {},
   "source": [
    "4. 배열 모양 바꾸기\n",
    "    * Reshape 함수 사용법\n",
    "    \n",
    "    ```배열명.reshape(바꿀 모양)```"
   ]
  },
  {
   "cell_type": "markdown",
   "metadata": {},
   "source": [
    "### 02. NumPy 심화\n",
    "\n",
    "1. 배열 이어붙이기\n",
    "    * concatenate() 함수 사용법\n",
    "    \n",
    "    ```np.concatenate([배열1, 배열2, 배열3 ... 배열n], axis)```\n",
    "    \n",
    "        * axis = 0으로 사용하면 세로 방향으로, axis = 1로 사용하면 가로 방향으로 이어붙입니다.\n",
    "\n",
    "<br> \n",
    "\n",
    "2. 배열 나누기\n",
    "    * split() 함수\n",
    "    ```np.split(나눌 배열, [인덱스들], axis)```\n",
    "    "
   ]
  },
  {
   "cell_type": "code",
   "execution_count": 6,
   "metadata": {},
   "outputs": [
    {
     "data": {
      "text/plain": [
       "[array([[0, 1, 2, 3],\n",
       "        [4, 5, 6, 7]]),\n",
       " array([[ 8,  9, 10, 11],\n",
       "        [12, 13, 14, 15]])]"
      ]
     },
     "execution_count": 6,
     "metadata": {},
     "output_type": "execute_result"
    }
   ],
   "source": [
    "# split() 함수 사용예시\n",
    "import numpy as np\n",
    "\n",
    "A = np.array([[ 0, 1, 2, 3],\n",
    "              [ 4, 5, 6, 7],\n",
    "              [ 8, 9,10,11], \n",
    "              [12,13,14,15]])\n",
    "np.split(A, [2], axis = 0)"
   ]
  },
  {
   "cell_type": "code",
   "execution_count": 7,
   "metadata": {},
   "outputs": [
    {
     "data": {
      "text/plain": [
       "[array([[0, 1, 2, 3]]),\n",
       " array([[ 4,  5,  6,  7],\n",
       "        [ 8,  9, 10, 11]]),\n",
       " array([[12, 13, 14, 15]])]"
      ]
     },
     "execution_count": 7,
     "metadata": {},
     "output_type": "execute_result"
    }
   ],
   "source": [
    "np.split(A, [1,3], axis = 0)"
   ]
  },
  {
   "cell_type": "code",
   "execution_count": 1,
   "metadata": {},
   "outputs": [
    {
     "name": "stdout",
     "output_type": "stream",
     "text": [
      "[[ 0  1  2  3]\n",
      " [ 4  5  6  7]\n",
      " [ 8  9 10 11]] \n",
      "\n",
      "[[12 13 14 15]] \n",
      "\n"
     ]
    }
   ],
   "source": [
    "# matrix를 axis 0을 활용하여 3번째 행을 기준으로 나누고, 그 결과를 각각 a, b란 변수에 저장\n",
    "import numpy as np\n",
    "matrix = np.array([[ 0, 1, 2, 3],\n",
    "                   [ 4, 5, 6, 7],\n",
    "                   [ 8, 9,10,11], \n",
    "                   [12,13,14,15]])\n",
    "                   \n",
    "a, b = np.split(matrix,[3],axis=0)\n",
    "\n",
    "print(a, \"\\n\")\n",
    "print(b, \"\\n\")\n"
   ]
  },
  {
   "cell_type": "markdown",
   "metadata": {},
   "source": [
    "3. 기본 연산\n",
    "    * Numpy의 배열끼리도 사칙연산을 수행할 수 있다.\n",
    "4. 브로드캐스팅\n",
    "    * 서로 다른 모양의 배열끼리 산술 연산을 할 때, 작은 쪽의 배열을 큰 쪽의 배열 크기로 확장시켜 연산시키는 것이다."
   ]
  },
  {
   "cell_type": "code",
   "execution_count": 8,
   "metadata": {},
   "outputs": [
    {
     "name": "stdout",
     "output_type": "stream",
     "text": [
      "[4 5 6 7 8]\n"
     ]
    }
   ],
   "source": [
    "# 브로드캐스팅 예시\n",
    "import numpy as np\n",
    "\n",
    "A = np.array([1,2,3,4,5])\n",
    "B = np.array([3])\n",
    "print(A+B)"
   ]
  },
  {
   "cell_type": "markdown",
   "metadata": {},
   "source": [
    "5. 다양한 집계함수\n",
    "    * **sum()**\n",
    "        * matrix의 총 합계를 구할 수 있다.\n",
    "        ```python\n",
    "        np.sum(matrix)\n",
    "        ```\n",
    "        * matrix의 각 열끼리 더한 값을 구할 수 있다.\n",
    "        ```\n",
    "        np.sum(matrix, axis=0)\n",
    "        ```\n",
    "        * matrix의 각 행끼리 더한 값을 구할 수 있다.\n",
    "        ```\n",
    "        np.sum(matrix, axis=1)\n",
    "        ```\n",
    "       \n",
    "    * **max()** : 최댓값\n",
    "        ```\n",
    "        np.max(matrix)\n",
    "        ```\n",
    "    * **min()** : 최솟값\n",
    "        ```\n",
    "        np.min(matrix)\n",
    "        ```\n",
    "    * **mean()** : 평균값\n",
    "    ```\n",
    "    np.mean(matrix)\n",
    "    ```\n",
    "    * **std()** : 표준편차\n",
    "    ```\n",
    "    np.std(matrix)\n",
    "    ```\n",
    "    \n",
    " 6 . 마스킹 연산\n",
    " \n",
    " * Numpy 배열에서 조건을 만족하는 값만 따로 추출한다.\n",
    "     * ex) 3 이상 5 이하의 값만 출력\n",
    "     ```\n",
    "     print(matrix[(matrix >= 3) & (matrix <= 5)])\n",
    "     ```"
   ]
  },
  {
   "cell_type": "code",
   "execution_count": 12,
   "metadata": {},
   "outputs": [
    {
     "name": "stdout",
     "output_type": "stream",
     "text": [
      "[[0 1 2 3]\n",
      " [4 5 6 7]]\n",
      "[5 6 7]\n"
     ]
    }
   ],
   "source": [
    "# 마스킹 연산\n",
    "import numpy as np\n",
    "\n",
    "matrix = np.arange(8).reshape((2, 4))\n",
    "print(matrix)\n",
    "\n",
    "print(matrix[matrix>4])"
   ]
  }
 ],
 "metadata": {
  "kernelspec": {
   "display_name": "Python 3",
   "language": "python",
   "name": "python3"
  },
  "language_info": {
   "codemirror_mode": {
    "name": "ipython",
    "version": 3
   },
   "file_extension": ".py",
   "mimetype": "text/x-python",
   "name": "python",
   "nbconvert_exporter": "python",
   "pygments_lexer": "ipython3",
   "version": "3.8.5"
  }
 },
 "nbformat": 4,
 "nbformat_minor": 4
}
