{
 "cells": [
  {
   "cell_type": "markdown",
   "metadata": {},
   "source": [
    "> **Elice  Ai Track**에서 제공하는 강의자료를 바탕으로 작성하였습니다.  \n",
    "\n",
    "##  < pandas >\n",
    "\n",
    "### 03. pandas 기본\n",
    "\n",
    "1. Series 데이터\n",
    "    * Numpy array가 보강된 형태의 Data와 index를 가지고 있는 Pandas의 데이터 형식이다.\n",
    "    * Series 데이터를 만들기 위해서는 값과 인덱스를 부여해주어야 한다.\n",
    "    > series = pd.Series([1,2,3,4], index = ['a', 'b', 'c', 'd'], name=\"Title\")\n",
    "    \n",
    "    * **딕셔너리**를 이용해서 Series 만들 수 있다.\n",
    "    > my_dict = {...}\n",
    "series = pd.Series(my_dict)"
   ]
  },
  {
   "cell_type": "code",
   "execution_count": 1,
   "metadata": {},
   "outputs": [
    {
     "name": "stdout",
     "output_type": "stream",
     "text": [
      "{'apple': 5000, 'banana': 4000, 'melon': 10000} \n",
      "\n",
      "apple      5000\n",
      "banana     4000\n",
      "melon     10000\n",
      "dtype: int64\n"
     ]
    }
   ],
   "source": [
    "# 딕셔너리 활용 예시\n",
    "import pandas as pd\n",
    "fruits_dic = {'apple': 5000, 'banana': 4000, 'melon': 10000} \n",
    "    \n",
    "print(fruits_dic, \"\\n\")\n",
    "    \n",
    "fruits_price = pd.Series(fruits_dic)\n",
    "print(fruits_price)"
   ]
  },
  {
   "cell_type": "markdown",
   "metadata": {},
   "source": [
    "2. DataFrame\n",
    "    * 시리즈 데이터는 하나의 칼럼으로 이루어진 반면 데이터 프레임은 여러 개의 칼럼을 가질 수 있다.\n",
    "    * 데이터 프레임은 여러 개의 Series 데이터를 묶어놓은 것으로 볼 수 있다.\n",
    "    ```\n",
    "    population = pd.Series(population_dict)\n",
    "    gdp = pd.Series(gdp_dict)\n",
    "\n",
    "    country = pd.DataFrame({\n",
    "        \"population\" : population,\n",
    "        \"gdp\" : gdp\n",
    "    })\n",
    "    ```\n",
    "    * 이미 만든 데이터 프레임에 새로운 칼럼을 추가\n",
    "        * 예시\n",
    "        > country[\"gdp_per_pop\"] = gdp_per_pop\n",
    "        \n",
    "3. 데이터 프레임 인덱싱과 슬라이싱\n",
    "    * loc 함수\n",
    "        * loc 함수는 리스트를 전달받는 데 인자 두개까지 받을 수 있다.\n",
    "        * loc[row,column]\n",
    "        * 주의할 점\n",
    "            * loc의 슬라이싱 : **[0,2]는 0부터 2까지이다.**\n",
    "        > 예시 : df.loc[:,['노선명','승차총승객수']]\n",
    "        \n",
    "        * loc함수는 indexing, slicing 방식으로 데이터를 가지고 올 수 있으면서 조건들을 검색할 수 있는 유용한 내용이다.\n",
    "        \n",
    "    * iloc 함수\n",
    "        * 정수를 이용하여 행과 열을 선택\n",
    "        * 인덱싱\n",
    "        > df.iloc[0,1]\n",
    "        * 슬라이싱\n",
    "        > df.iloc[0:2,0:2]\n",
    "        * 주의할 점\n",
    "            * loc의 슬라이싱 : **[0,2]는 0부터 1까지이다.**\n",
    "            \n",
    "4. Dataframe 값으로 정렬\n",
    "    * sort_values 함수 사용법\n",
    "    > 정렬할 데이터 프레임 이름.sort_values(정렬할 칼럼명, ascending)\n",
    "        *  ascending은 오름차순, 내림차순 옵션을 지정하며 기본값은 True\n",
    "        \n",
    "<br>\n",
    "        \n",
    "### 04. pandas 심화\n",
    "\n",
    "1. 조건으로 검색\n",
    "    * 조건식 직접 작성\n",
    "    ```\n",
    "    print(df[(df[\"A\"]<0.5) & (df[\"B\"]>0.3)])\n",
    "    ```\n",
    "    * query 함수를 사용하는 방법\n",
    "    ```\n",
    "    print(df.query(\"B>0.3 and A<0.5\"))\n",
    "    ```\n",
    "    * 문자열인 경우\n",
    "        * str.contain 함수 : Animal 칼럼에서 Cat이란 문자열을 포함하는 경우를 검색\n",
    "        ```\n",
    "        df[\"Animal\"].str.contain(\"Cat\")\n",
    "        ```\n",
    "        * str.match 함수 : Animal 칼럼에서 Cat이란 문자열과 일치하는 경우를 검색\n",
    "        ```\n",
    "        df[\"Animal\"].str.match(\"Cat\")\n",
    "        ```\n",
    "        \n",
    "2. 함수로 데이터 처리\n",
    "    * apply() 를 이용하면 함수를 이용하여 데이터 프레임에 값을 적용할 수 있다."
   ]
  },
  {
   "cell_type": "code",
   "execution_count": 2,
   "metadata": {},
   "outputs": [
    {
     "name": "stdout",
     "output_type": "stream",
     "text": [
      "   Num\n",
      "0    0\n",
      "1    1\n",
      "2    2\n",
      "3    3\n",
      "4    4\n",
      "5    5\n",
      "6    6\n",
      "7    7\n",
      "8    8\n",
      "9    9 \n",
      "\n",
      "   Num  Mul\n",
      "0    0    0\n",
      "1    1    2\n",
      "2    2    4\n",
      "3    3    6\n",
      "4    4    8\n",
      "5    5   10\n",
      "6    6   12\n",
      "7    7   14\n",
      "8    8   16\n",
      "9    9   18\n",
      "   Num  Mul\n",
      "0    0    0\n",
      "1    1    2\n",
      "2    2    4\n",
      "3    3    6\n",
      "4    4    8\n",
      "5    5   10\n",
      "6    6   12\n",
      "7    7   14\n",
      "8    8   16\n",
      "9    9   18\n"
     ]
    }
   ],
   "source": [
    "# 기존 컬럼에 2를 곱한 컬럼을 추가하는 방법\n",
    "import numpy as np\n",
    "import pandas as pd\n",
    "\n",
    "df = pd.DataFrame(np.arange(10), columns=[\"Num\"])\n",
    "print(df, \"\\n\")\n",
    "\n",
    "# 일반 함수 사용\n",
    "def mul(x):\n",
    "    return x*2\n",
    "df['Mul'] = df['Num'].apply(mul)\n",
    "print(df)\n",
    "\n",
    "# 람다 표현식\n",
    "df['Mul'] = df.Num.apply(lambda x: x*2)\n",
    "print(df)"
   ]
  },
  {
   "cell_type": "markdown",
   "metadata": {},
   "source": [
    "3. 그룹으로 묶기\n",
    "    * groupby() 함수를 이용하면 키 값을 기준으로 그룹으로 묶을 수 있다.\n",
    "4. 요약 통계량 산출\n",
    "    * aggregate() 함수를 이용하여 데이터 프레임의 요약 통계량을 구할 수 있다.\n",
    "    ```\n",
    "    print(df.aggregate([min, np.mean, max]))\n",
    "    ```"
   ]
  }
 ],
 "metadata": {
  "kernelspec": {
   "display_name": "Python 3",
   "language": "python",
   "name": "python3"
  },
  "language_info": {
   "codemirror_mode": {
    "name": "ipython",
    "version": 3
   },
   "file_extension": ".py",
   "mimetype": "text/x-python",
   "name": "python",
   "nbconvert_exporter": "python",
   "pygments_lexer": "ipython3",
   "version": "3.8.5"
  }
 },
 "nbformat": 4,
 "nbformat_minor": 4
}
