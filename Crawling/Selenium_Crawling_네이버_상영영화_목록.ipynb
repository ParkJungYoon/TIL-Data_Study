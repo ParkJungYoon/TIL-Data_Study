{
 "cells": [
  {
   "cell_type": "markdown",
   "metadata": {},
   "source": [
    "## [네이버 상영영화 목록](https://movie.naver.com/movie/running/current.naver)\n",
    "\n",
    "> 데이터 분석과 머신러닝 스터디 \n",
    "\n",
    "* 주제 : Selenium을 활용한 크롤링 실습\n",
    "* 일시 : 2022년 1월 27일 오후 7시"
   ]
  },
  {
   "cell_type": "markdown",
   "metadata": {},
   "source": [
    "### 방법1\n",
    "\n",
    "* 엑셀 파일로 저장하기"
   ]
  },
  {
   "cell_type": "code",
   "execution_count": 1,
   "metadata": {},
   "outputs": [
    {
     "name": "stderr",
     "output_type": "stream",
     "text": [
      "<ipython-input-1-db54963a04c5>:14: DeprecationWarning: executable_path has been deprecated, please pass in a Service object\n",
      "  with webdriver.Chrome(executable_path=cpath) as driver:\n",
      "<ipython-input-1-db54963a04c5>:18: DeprecationWarning: find_element_by_* commands are deprecated. Please use find_element() instead\n",
      "  ul = driver.find_element_by_class_name(\"lst_detail_t1\")\n",
      "C:\\Python\\Anaconda3\\lib\\site-packages\\selenium\\webdriver\\remote\\webelement.py:359: UserWarning: find_elements_by_* commands are deprecated. Please use find_elements() instead\n",
      "  warnings.warn(\"find_elements_by_* commands are deprecated. Please use find_elements() instead\")\n",
      "C:\\Python\\Anaconda3\\lib\\site-packages\\selenium\\webdriver\\remote\\webelement.py:446: UserWarning: find_element_by_* commands are deprecated. Please use find_element() instead\n",
      "  warnings.warn(\"find_element_by_* commands are deprecated. Please use find_element() instead\")\n",
      "C:\\Python\\Anaconda3\\lib\\site-packages\\selenium\\webdriver\\remote\\webelement.py:341: UserWarning: find_element_by_* commands are deprecated. Please use find_element() instead\n",
      "  warnings.warn(\"find_element_by_* commands are deprecated. Please use find_element() instead\")\n"
     ]
    }
   ],
   "source": [
    "from selenium import webdriver\n",
    "import openpyxl\n",
    "\n",
    "cpath = './chromedriver.exe'\n",
    "\n",
    "excel_file = openpyxl.Workbook()\n",
    "excel_sheet = excel_file.active\n",
    "excel_sheet.append(['title', 'grade', 'rate'])\n",
    "excel_sheet.column_dimensions['A'].width = 50\n",
    "excel_sheet.column_dimensions['B'].width = 20\n",
    "excel_sheet.column_dimensions['C'].width = 20\n",
    "\n",
    "\n",
    "with webdriver.Chrome(executable_path=cpath) as driver:\n",
    "    driver.get('https://movie.naver.com/movie/running/current.naver')\n",
    "    \n",
    "    movie_list = []\n",
    "    ul = driver.find_element_by_class_name(\"lst_detail_t1\")\n",
    "    li_list = ul.find_elements_by_tag_name(\"li\")\n",
    "    \n",
    "    for li in li_list:\n",
    "        title = li.find_element_by_class_name('tit').find_element_by_tag_name('a').text\n",
    "        star = li.find_element_by_class_name('star')\n",
    "        grade = star.find_element_by_class_name(\"star_t1\").find_element_by_class_name('num').text\n",
    "        rate = star.find_element_by_class_name(\"b_star\").find_element_by_class_name('num').text\n",
    "    \n",
    "        excel_sheet.append([title,grade,rate])\n",
    "\n",
    "        \n",
    "excel_file.save('movie_list.xlsx')\n",
    "excel_file.close()"
   ]
  },
  {
   "cell_type": "markdown",
   "metadata": {},
   "source": [
    "### 방법2 : XPATH로 요소 불러오기"
   ]
  },
  {
   "cell_type": "code",
   "execution_count": 2,
   "metadata": {},
   "outputs": [
    {
     "name": "stderr",
     "output_type": "stream",
     "text": [
      "<ipython-input-2-d20d945fab24>:11: DeprecationWarning: executable_path has been deprecated, please pass in a Service object\n",
      "  with webdriver.Chrome(executable_path=cpath) as driver:\n",
      "<ipython-input-2-d20d945fab24>:15: DeprecationWarning: find_elements_by_* commands are deprecated. Please use find_elements() instead\n",
      "  li_list = driver.find_elements_by_xpath('//*[@id=\"content\"]/div[1]/div[1]/div[3]/ul/li')\n",
      "C:\\Python\\Anaconda3\\lib\\site-packages\\selenium\\webdriver\\remote\\webelement.py:393: UserWarning: find_element_by_* commands are deprecated. Please use find_element() instead\n",
      "  warnings.warn(\"find_element_by_* commands are deprecated. Please use find_element() instead\")\n"
     ]
    },
    {
     "name": "stdout",
     "output_type": "stream",
     "text": [
      "나일 강의 죽음 8.29 38.14\n",
      "나의 촛불 6.96 14.67\n",
      "해적: 도깨비 깃발 6.21 7.82\n",
      "킹메이커 7.50 6.72\n",
      "355 6.79 5.75\n",
      "극장판 안녕 자두야: 제주도의 비밀 8.97 3.91\n",
      "스파이더맨: 노 웨이 홈 8.87 3.79\n",
      "미싱타는 여자들 9.05 2.69\n",
      "씽2게더 9.43 2.57\n",
      "굿 보스 8.11 1.71\n",
      "만년이 지나도 변하지 않는 게 있어 6.85 1.47\n",
      "어나더 라운드 8.27 1.34\n",
      "해탄적일천 8.23 1.22\n",
      "가슴이 떨리는 건 너 때문 6.88 1.1\n",
      "듄 7.96 0.98\n",
      "드라이브 마이 카 8.54 0.73\n",
      "온 세상이 하얗다 9.00 0.37\n",
      "하우스 오브 구찌 7.92 0.37\n",
      "효자 9.50 0.24\n",
      "원 세컨드 7.60 0.24\n",
      "늦봄2020 8.00 0.24\n",
      "웨스트 사이드 스토리 6.58 0.12\n",
      "더 마더 4.58 0.12\n",
      "특송 7.83 0.12\n",
      "프랑스 7.62 0.12\n",
      "프렌치 디스패치 7.98 0.12\n",
      "경관의 피 7.35 0.12\n",
      "캐롤 8.62 0.12\n",
      "애니멀 체인지 4.67 0.12\n",
      "해리 포터와 불사조 기사단 7.03 0.01\n",
      "킹스맨: 퍼스트 에이전트 7.98 0.01\n",
      "프리! 더 파이널 스트로크 전편 9.05 0.01\n",
      "타오르는 여인의 초상 9.05 0.01\n",
      "덩케르크 8.29 0.01\n",
      "창극 변강쇠 점 찍고 옹녀 7.00 0.01\n",
      "비틀즈 겟 백: 루프탑 콘서트 9.00 0.01\n",
      "도쿄 리벤저스 8.40 0.01\n",
      "밀라노 두오모 콘서트 5.50 0.01\n",
      "레전더리 콘서트: 레너드 번스타인 0.00 0.01\n",
      "파이어 셧 업 인 마이 본즈 7.00 0.01\n",
      "인어가 잠든 집 8.13 0.01\n",
      "극장판 천재 추리 탐정 셜록홈즈 9.49 0.01\n",
      "단지 세상의 끝 7.49 0.01\n",
      "러브레터 9.12 0.01\n",
      "마미 8.70 0.01\n",
      "청춘적니 7.01 0.01\n",
      "걸 위드 더 카메라 9.71 0.01\n",
      "귀향 8.66 0.01\n",
      "나쁜 교육 8.46 0.01\n",
      "당신얼굴 앞에서 7.50 0.01\n",
      "미스터 앤 미세스 아델만 8.10 0.01\n",
      "바이올렛 에버가든 오케스트라 콘서트 2021 9.44 0.01\n",
      "브로큰 임브레이스 7.50 0.01\n",
      "퍼스트 카우 8.31 0.01\n"
     ]
    }
   ],
   "source": [
    "from selenium import webdriver\n",
    "\n",
    "cpath = './chromedriver.exe'\n",
    "\n",
    "class Movie():\n",
    "    def __init__(self,title,grade,rate):\n",
    "        self.title = title\n",
    "        self.grade = float(grade)\n",
    "        self.rate = float(rate)\n",
    "\n",
    "with webdriver.Chrome(executable_path=cpath) as driver:\n",
    "    driver.get('https://movie.naver.com/movie/running/current.naver')\n",
    "    \n",
    "    movie_list = []\n",
    "    li_list = driver.find_elements_by_xpath('//*[@id=\"content\"]/div[1]/div[1]/div[3]/ul/li')\n",
    "    \n",
    "    for li in li_list:\n",
    "        title = li.find_element_by_xpath('dl/dt/a').text\n",
    "        grade = li.find_element_by_xpath(\"dl/dd[1]/dl[1]/dd/div/a/span[2]\").text\n",
    "        rate = li.find_element_by_xpath(\"dl/dd[1]/dl[2]/dd/div/span[1]\").text\n",
    "\n",
    "        print(title, grade, rate)\n",
    "        \n",
    "        movie = Movie(\n",
    "                title = title,\n",
    "                grade = float(grade),\n",
    "                rate = float(rate)\n",
    "            )"
   ]
  }
 ],
 "metadata": {
  "kernelspec": {
   "display_name": "Python 3",
   "language": "python",
   "name": "python3"
  },
  "language_info": {
   "codemirror_mode": {
    "name": "ipython",
    "version": 3
   },
   "file_extension": ".py",
   "mimetype": "text/x-python",
   "name": "python",
   "nbconvert_exporter": "python",
   "pygments_lexer": "ipython3",
   "version": "3.8.5"
  }
 },
 "nbformat": 4,
 "nbformat_minor": 4
}
